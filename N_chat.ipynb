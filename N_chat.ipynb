{
  "nbformat": 4,
  "nbformat_minor": 0,
  "metadata": {
    "colab": {
      "provenance": [],
      "authorship_tag": "ABX9TyMHqumXgj1g8wlal2Xekbnz",
      "include_colab_link": true
    },
    "kernelspec": {
      "name": "python3",
      "display_name": "Python 3"
    },
    "language_info": {
      "name": "python"
    }
  },
  "cells": [
    {
      "cell_type": "markdown",
      "metadata": {
        "id": "view-in-github",
        "colab_type": "text"
      },
      "source": [
        "<a href=\"https://colab.research.google.com/github/NiceHub-Community/NiceHub-Community/blob/main/N_chat.ipynb\" target=\"_parent\"><img src=\"https://colab.research.google.com/assets/colab-badge.svg\" alt=\"Open In Colab\"/></a>"
      ]
    },
    {
      "cell_type": "code",
      "execution_count": 42,
      "metadata": {
        "id": "Wd7okn8cQcle"
      },
      "outputs": [],
      "source": [
        "import requests as req"
      ]
    },
    {
      "cell_type": "code",
      "source": [
        "soal = input(\"soal\")\n",
        "\n",
        "chatgpt = \"https://one-api.ir/chatgpt/?token=843530:657815b9d8c49&action=gpt3.5-turbo&q=\"+soal;\n",
        "\n",
        "res = req.get (chatgpt)\n",
        "\n",
        "javab=res.json()\n",
        "\n",
        "javab=javab['result'][0]\n",
        "\n",
        "print (javab)"
      ],
      "metadata": {
        "colab": {
          "base_uri": "https://localhost:8080/"
        },
        "id": "hJOTydSlZmvA",
        "outputId": "5051b12c-1a4b-4d0f-ed80-6529cedc04c2"
      },
      "execution_count": 43,
      "outputs": [
        {
          "output_type": "stream",
          "name": "stdout",
          "text": [
            "soalبهترین بستنی ایرانی را چه برندی تولید می کند؟\n",
            "بستنی توسط بسیاری از برندهای ایرانی تولید می شود که هر کدام دارای ذائقه و کیفیت منحصر به فردی هستند. برخی از برندهای محبوب بستنی ایرانی شامل آرد انار، آبگرمک، کمان، دنیای یخ، کلاسیک، بستیو و پاپیلا می‌باشند. همه این برندها باعث افزایش رقابت و بهبود کیفیت بستنی‌های ایرانی شده اند. بهترین بستنی ایرانی بسته به سلیقه شما و ذائقه شخصی شما ممکن است متفاوت باشد.\n"
          ]
        }
      ]
    }
  ]
}